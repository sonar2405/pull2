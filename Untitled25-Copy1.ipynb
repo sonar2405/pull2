{
 "cells": [
  {
   "cell_type": "code",
   "execution_count": 1,
   "id": "66562b9d",
   "metadata": {},
   "outputs": [],
   "source": [
    "from PIL import Image\n",
    "myImage=Image.open(\"C:/Users/sonar/OneDrive/Pictures/The digestive system.png\")\n",
    "myImage.show();"
   ]
  },
  {
   "cell_type": "code",
   "execution_count": null,
   "id": "286c2725",
   "metadata": {},
   "outputs": [],
   "source": []
  }
 ],
 "metadata": {
  "kernelspec": {
   "display_name": "Python 3 (ipykernel)",
   "language": "python",
   "name": "python3"
  },
  "language_info": {
   "codemirror_mode": {
    "name": "ipython",
    "version": 3
   },
   "file_extension": ".py",
   "mimetype": "text/x-python",
   "name": "python",
   "nbconvert_exporter": "python",
   "pygments_lexer": "ipython3",
   "version": "3.11.5"
  }
 },
 "nbformat": 4,
 "nbformat_minor": 5
}
